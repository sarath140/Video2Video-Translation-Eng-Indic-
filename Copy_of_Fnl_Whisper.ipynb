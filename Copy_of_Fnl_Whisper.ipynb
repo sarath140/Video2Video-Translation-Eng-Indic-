{
  "nbformat": 4,
  "nbformat_minor": 0,
  "metadata": {
    "colab": {
      "provenance": [],
      "authorship_tag": "ABX9TyNz7acu/FskLIWMMKqMFlHE",
      "include_colab_link": true
    },
    "kernelspec": {
      "name": "python3",
      "display_name": "Python 3"
    },
    "language_info": {
      "name": "python"
    }
  },
  "cells": [
    {
      "cell_type": "markdown",
      "metadata": {
        "id": "view-in-github",
        "colab_type": "text"
      },
      "source": [
        "<a href=\"https://colab.research.google.com/github/sarath140/Video2Video-Translation-Eng-Indic-/blob/main/Copy_of_Fnl_Whisper.ipynb\" target=\"_parent\"><img src=\"https://colab.research.google.com/assets/colab-badge.svg\" alt=\"Open In Colab\"/></a>"
      ]
    },
    {
      "cell_type": "code",
      "source": [
        "# Install Whisper\n",
        "!pip install git+https://github.com/openai/whisper.git\n",
        "!sudo apt update && sudo apt install ffmpeg -y"
      ],
      "metadata": {
        "id": "W5YEOR7lW-Jt",
        "colab": {
          "base_uri": "https://localhost:8080/"
        },
        "outputId": "f6790867-4706-4a53-c745-8b010a0ea0e5"
      },
      "execution_count": null,
      "outputs": [
        {
          "output_type": "stream",
          "name": "stdout",
          "text": [
            "Collecting git+https://github.com/openai/whisper.git\n",
            "  Cloning https://github.com/openai/whisper.git to /tmp/pip-req-build-qb77krvz\n",
            "  Running command git clone --filter=blob:none --quiet https://github.com/openai/whisper.git /tmp/pip-req-build-qb77krvz\n",
            "  Resolved https://github.com/openai/whisper.git to commit c0d2f624c09dc18e709e37c2ad90c039a4eb72a2\n",
            "  Installing build dependencies ... \u001b[?25l\u001b[?25hdone\n",
            "  Getting requirements to build wheel ... \u001b[?25l\u001b[?25hdone\n",
            "  Preparing metadata (pyproject.toml) ... \u001b[?25l\u001b[?25hdone\n",
            "Requirement already satisfied: more-itertools in /usr/local/lib/python3.12/dist-packages (from openai-whisper==20250625) (10.7.0)\n",
            "Requirement already satisfied: numba in /usr/local/lib/python3.12/dist-packages (from openai-whisper==20250625) (0.60.0)\n",
            "Requirement already satisfied: numpy in /usr/local/lib/python3.12/dist-packages (from openai-whisper==20250625) (2.0.2)\n",
            "Requirement already satisfied: tiktoken in /usr/local/lib/python3.12/dist-packages (from openai-whisper==20250625) (0.11.0)\n",
            "Requirement already satisfied: torch in /usr/local/lib/python3.12/dist-packages (from openai-whisper==20250625) (2.8.0+cu126)\n",
            "Requirement already satisfied: tqdm in /usr/local/lib/python3.12/dist-packages (from openai-whisper==20250625) (4.67.1)\n",
            "Requirement already satisfied: triton>=2 in /usr/local/lib/python3.12/dist-packages (from openai-whisper==20250625) (3.4.0)\n",
            "Requirement already satisfied: setuptools>=40.8.0 in /usr/local/lib/python3.12/dist-packages (from triton>=2->openai-whisper==20250625) (75.2.0)\n",
            "Requirement already satisfied: llvmlite<0.44,>=0.43.0dev0 in /usr/local/lib/python3.12/dist-packages (from numba->openai-whisper==20250625) (0.43.0)\n",
            "Requirement already satisfied: regex>=2022.1.18 in /usr/local/lib/python3.12/dist-packages (from tiktoken->openai-whisper==20250625) (2024.11.6)\n",
            "Requirement already satisfied: requests>=2.26.0 in /usr/local/lib/python3.12/dist-packages (from tiktoken->openai-whisper==20250625) (2.32.4)\n",
            "Requirement already satisfied: filelock in /usr/local/lib/python3.12/dist-packages (from torch->openai-whisper==20250625) (3.19.1)\n",
            "Requirement already satisfied: typing-extensions>=4.10.0 in /usr/local/lib/python3.12/dist-packages (from torch->openai-whisper==20250625) (4.15.0)\n",
            "Requirement already satisfied: sympy>=1.13.3 in /usr/local/lib/python3.12/dist-packages (from torch->openai-whisper==20250625) (1.13.3)\n",
            "Requirement already satisfied: networkx in /usr/local/lib/python3.12/dist-packages (from torch->openai-whisper==20250625) (3.5)\n",
            "Requirement already satisfied: jinja2 in /usr/local/lib/python3.12/dist-packages (from torch->openai-whisper==20250625) (3.1.6)\n",
            "Requirement already satisfied: fsspec in /usr/local/lib/python3.12/dist-packages (from torch->openai-whisper==20250625) (2025.3.0)\n",
            "Requirement already satisfied: nvidia-cuda-nvrtc-cu12==12.6.77 in /usr/local/lib/python3.12/dist-packages (from torch->openai-whisper==20250625) (12.6.77)\n",
            "Requirement already satisfied: nvidia-cuda-runtime-cu12==12.6.77 in /usr/local/lib/python3.12/dist-packages (from torch->openai-whisper==20250625) (12.6.77)\n",
            "Requirement already satisfied: nvidia-cuda-cupti-cu12==12.6.80 in /usr/local/lib/python3.12/dist-packages (from torch->openai-whisper==20250625) (12.6.80)\n",
            "Requirement already satisfied: nvidia-cudnn-cu12==9.10.2.21 in /usr/local/lib/python3.12/dist-packages (from torch->openai-whisper==20250625) (9.10.2.21)\n",
            "Requirement already satisfied: nvidia-cublas-cu12==12.6.4.1 in /usr/local/lib/python3.12/dist-packages (from torch->openai-whisper==20250625) (12.6.4.1)\n",
            "Requirement already satisfied: nvidia-cufft-cu12==11.3.0.4 in /usr/local/lib/python3.12/dist-packages (from torch->openai-whisper==20250625) (11.3.0.4)\n",
            "Requirement already satisfied: nvidia-curand-cu12==10.3.7.77 in /usr/local/lib/python3.12/dist-packages (from torch->openai-whisper==20250625) (10.3.7.77)\n",
            "Requirement already satisfied: nvidia-cusolver-cu12==11.7.1.2 in /usr/local/lib/python3.12/dist-packages (from torch->openai-whisper==20250625) (11.7.1.2)\n",
            "Requirement already satisfied: nvidia-cusparse-cu12==12.5.4.2 in /usr/local/lib/python3.12/dist-packages (from torch->openai-whisper==20250625) (12.5.4.2)\n",
            "Requirement already satisfied: nvidia-cusparselt-cu12==0.7.1 in /usr/local/lib/python3.12/dist-packages (from torch->openai-whisper==20250625) (0.7.1)\n",
            "Requirement already satisfied: nvidia-nccl-cu12==2.27.3 in /usr/local/lib/python3.12/dist-packages (from torch->openai-whisper==20250625) (2.27.3)\n",
            "Requirement already satisfied: nvidia-nvtx-cu12==12.6.77 in /usr/local/lib/python3.12/dist-packages (from torch->openai-whisper==20250625) (12.6.77)\n",
            "Requirement already satisfied: nvidia-nvjitlink-cu12==12.6.85 in /usr/local/lib/python3.12/dist-packages (from torch->openai-whisper==20250625) (12.6.85)\n",
            "Requirement already satisfied: nvidia-cufile-cu12==1.11.1.6 in /usr/local/lib/python3.12/dist-packages (from torch->openai-whisper==20250625) (1.11.1.6)\n",
            "Requirement already satisfied: charset_normalizer<4,>=2 in /usr/local/lib/python3.12/dist-packages (from requests>=2.26.0->tiktoken->openai-whisper==20250625) (3.4.3)\n",
            "Requirement already satisfied: idna<4,>=2.5 in /usr/local/lib/python3.12/dist-packages (from requests>=2.26.0->tiktoken->openai-whisper==20250625) (3.10)\n",
            "Requirement already satisfied: urllib3<3,>=1.21.1 in /usr/local/lib/python3.12/dist-packages (from requests>=2.26.0->tiktoken->openai-whisper==20250625) (2.5.0)\n",
            "Requirement already satisfied: certifi>=2017.4.17 in /usr/local/lib/python3.12/dist-packages (from requests>=2.26.0->tiktoken->openai-whisper==20250625) (2025.8.3)\n",
            "Requirement already satisfied: mpmath<1.4,>=1.1.0 in /usr/local/lib/python3.12/dist-packages (from sympy>=1.13.3->torch->openai-whisper==20250625) (1.3.0)\n",
            "Requirement already satisfied: MarkupSafe>=2.0 in /usr/local/lib/python3.12/dist-packages (from jinja2->torch->openai-whisper==20250625) (3.0.2)\n",
            "Building wheels for collected packages: openai-whisper\n",
            "  Building wheel for openai-whisper (pyproject.toml) ... \u001b[?25l\u001b[?25hdone\n",
            "  Created wheel for openai-whisper: filename=openai_whisper-20250625-py3-none-any.whl size=803979 sha256=367b6cf401624a1b1b5a09918b7de577faecefb29a4f86291b434b8796f82a6d\n",
            "  Stored in directory: /tmp/pip-ephem-wheel-cache-ds6mtft1/wheels/c3/03/25/5e0ba78bc27a3a089f137c9f1d92fdfce16d06996c071a016c\n",
            "Successfully built openai-whisper\n",
            "Installing collected packages: openai-whisper\n",
            "Successfully installed openai-whisper-20250625\n",
            "Get:1 https://cloud.r-project.org/bin/linux/ubuntu jammy-cran40/ InRelease [3,632 B]\n",
            "Hit:2 https://cli.github.com/packages stable InRelease\n",
            "Get:3 https://developer.download.nvidia.com/compute/cuda/repos/ubuntu2204/x86_64  InRelease [1,581 B]\n",
            "Hit:4 http://archive.ubuntu.com/ubuntu jammy InRelease\n",
            "Get:5 http://archive.ubuntu.com/ubuntu jammy-updates InRelease [128 kB]\n",
            "Get:6 http://security.ubuntu.com/ubuntu jammy-security InRelease [129 kB]\n",
            "Get:7 https://r2u.stat.illinois.edu/ubuntu jammy InRelease [6,555 B]\n",
            "Get:8 https://developer.download.nvidia.com/compute/cuda/repos/ubuntu2204/x86_64  Packages [1,942 kB]\n",
            "Get:9 http://archive.ubuntu.com/ubuntu jammy-backports InRelease [127 kB]\n",
            "Get:10 https://r2u.stat.illinois.edu/ubuntu jammy/main all Packages [9,202 kB]\n",
            "Get:11 http://archive.ubuntu.com/ubuntu jammy-updates/restricted amd64 Packages [5,543 kB]\n",
            "Hit:12 https://ppa.launchpadcontent.net/deadsnakes/ppa/ubuntu jammy InRelease\n",
            "Hit:13 https://ppa.launchpadcontent.net/graphics-drivers/ppa/ubuntu jammy InRelease\n",
            "Get:14 http://security.ubuntu.com/ubuntu jammy-security/restricted amd64 Packages [5,340 kB]\n",
            "Hit:15 https://ppa.launchpadcontent.net/ubuntugis/ppa/ubuntu jammy InRelease\n",
            "Get:16 http://archive.ubuntu.com/ubuntu jammy-updates/main amd64 Packages [3,617 kB]\n",
            "Get:17 http://archive.ubuntu.com/ubuntu jammy-updates/universe amd64 Packages [1,576 kB]\n",
            "Get:18 https://r2u.stat.illinois.edu/ubuntu jammy/main amd64 Packages [2,782 kB]\n",
            "Get:19 http://security.ubuntu.com/ubuntu jammy-security/universe amd64 Packages [1,272 kB]\n",
            "Get:20 http://security.ubuntu.com/ubuntu jammy-security/main amd64 Packages [3,297 kB]\n",
            "Fetched 35.0 MB in 3s (11.9 MB/s)\n",
            "Reading package lists... Done\n",
            "Building dependency tree... Done\n",
            "Reading state information... Done\n",
            "39 packages can be upgraded. Run 'apt list --upgradable' to see them.\n",
            "\u001b[1;33mW: \u001b[0mSkipping acquire of configured file 'main/source/Sources' as repository 'https://r2u.stat.illinois.edu/ubuntu jammy InRelease' does not seem to provide it (sources.list entry misspelt?)\u001b[0m\n",
            "Reading package lists... Done\n",
            "Building dependency tree... Done\n",
            "Reading state information... Done\n",
            "ffmpeg is already the newest version (7:4.4.2-0ubuntu0.22.04.1).\n",
            "0 upgraded, 0 newly installed, 0 to remove and 39 not upgraded.\n"
          ]
        }
      ]
    },
    {
      "cell_type": "code",
      "source": [
        "# Mount Drive\n",
        "from google.colab import drive\n",
        "drive.mount('/content/drive')"
      ],
      "metadata": {
        "colab": {
          "base_uri": "https://localhost:8080/"
        },
        "id": "FpTSg93Yd35K",
        "outputId": "a062794e-c28b-40b5-85f1-8cb0a194ceb6"
      },
      "execution_count": null,
      "outputs": [
        {
          "output_type": "stream",
          "name": "stdout",
          "text": [
            "Mounted at /content/drive\n"
          ]
        }
      ]
    },
    {
      "cell_type": "code",
      "execution_count": null,
      "metadata": {
        "id": "lnnLxM9KI9rl",
        "colab": {
          "base_uri": "https://localhost:8080/"
        },
        "outputId": "c7480804-0c4a-428d-bdc7-4cde15b6424c"
      },
      "outputs": [
        {
          "output_type": "stream",
          "name": "stdout",
          "text": [
            "🔥 Using device: cuda\n",
            "Drive already mounted at /content/drive; to attempt to forcibly remount, call drive.mount(\"/content/drive\", force_remount=True).\n",
            "\n",
            "🔄 Processing: /content/drive/MyDrive/Commercial Horticulture English/Chapter 4 - Diseases and Control/Chapter 4 - Responsible use of Pesticides and Natural Alternatives.mp4\n",
            "✅ Done: /content/drive/MyDrive/Commercial Horticulture English/Chapter 4 - Diseases and Control/Chapter 4 - Responsible use of Pesticides and Natural Alternatives.mp4 → outputs in /content/drive/MyDrive/Commercial Horticulture English ASR/Chapter 4 - Diseases and Control\n",
            "\n",
            "🔄 Processing: /content/drive/MyDrive/Commercial Horticulture English/Chapter 4 - Diseases and Control/Chapter 4B - Organic methods like companion planting and natural predators.mp4\n",
            "✅ Done: /content/drive/MyDrive/Commercial Horticulture English/Chapter 4 - Diseases and Control/Chapter 4B - Organic methods like companion planting and natural predators.mp4 → outputs in /content/drive/MyDrive/Commercial Horticulture English ASR/Chapter 4 - Diseases and Control\n",
            "\n",
            "🔄 Processing: /content/drive/MyDrive/Commercial Horticulture English/Chapter 4 - Diseases and Control/Chapter 4A - Responsible use of pesticides and natural alternatives.mp4\n",
            "✅ Done: /content/drive/MyDrive/Commercial Horticulture English/Chapter 4 - Diseases and Control/Chapter 4A - Responsible use of pesticides and natural alternatives.mp4 → outputs in /content/drive/MyDrive/Commercial Horticulture English ASR/Chapter 4 - Diseases and Control\n",
            "\n",
            "🔄 Processing: /content/drive/MyDrive/Commercial Horticulture English/Chapter 2 - Selection of seeds and Cultivation of Crops/Chapter 2 - Major Fruit Crops of the Region.mp4\n",
            "✅ Done: /content/drive/MyDrive/Commercial Horticulture English/Chapter 2 - Selection of seeds and Cultivation of Crops/Chapter 2 - Major Fruit Crops of the Region.mp4 → outputs in /content/drive/MyDrive/Commercial Horticulture English ASR/Chapter 2 - Selection of seeds and Cultivation of Crops\n",
            "\n",
            "🔄 Processing: /content/drive/MyDrive/Commercial Horticulture English/Chapter 2 - Selection of seeds and Cultivation of Crops/Chapter 2F - Dry land horticulture & its management practices.mp4\n",
            "✅ Done: /content/drive/MyDrive/Commercial Horticulture English/Chapter 2 - Selection of seeds and Cultivation of Crops/Chapter 2F - Dry land horticulture & its management practices.mp4 → outputs in /content/drive/MyDrive/Commercial Horticulture English ASR/Chapter 2 - Selection of seeds and Cultivation of Crops\n",
            "\n",
            "🔄 Processing: /content/drive/MyDrive/Commercial Horticulture English/Chapter 2 - Selection of seeds and Cultivation of Crops/Chapter 2B - Major flower crops of the region, floriculture and landscape gardening maintenance of lawns.mp4\n",
            "✅ Done: /content/drive/MyDrive/Commercial Horticulture English/Chapter 2 - Selection of seeds and Cultivation of Crops/Chapter 2B - Major flower crops of the region, floriculture and landscape gardening maintenance of lawns.mp4 → outputs in /content/drive/MyDrive/Commercial Horticulture English ASR/Chapter 2 - Selection of seeds and Cultivation of Crops\n",
            "\n",
            "🔄 Processing: /content/drive/MyDrive/Commercial Horticulture English/Chapter 2 - Selection of seeds and Cultivation of Crops/Chapter 2E - Tissue culture in major horticulture crops.mp4\n",
            "✅ Done: /content/drive/MyDrive/Commercial Horticulture English/Chapter 2 - Selection of seeds and Cultivation of Crops/Chapter 2E - Tissue culture in major horticulture crops.mp4 → outputs in /content/drive/MyDrive/Commercial Horticulture English ASR/Chapter 2 - Selection of seeds and Cultivation of Crops\n",
            "\n",
            "🔄 Processing: /content/drive/MyDrive/Commercial Horticulture English/Chapter 2 - Selection of seeds and Cultivation of Crops/Chapter 2D - Plant Propagation Techniques Grafting, Budding, Layering, Planting Techniques, and Essential Care Needs.mp4\n",
            "✅ Done: /content/drive/MyDrive/Commercial Horticulture English/Chapter 2 - Selection of seeds and Cultivation of Crops/Chapter 2D - Plant Propagation Techniques Grafting, Budding, Layering, Planting Techniques, and Essential Care Needs.mp4 → outputs in /content/drive/MyDrive/Commercial Horticulture English ASR/Chapter 2 - Selection of seeds and Cultivation of Crops\n",
            "\n",
            "🔄 Processing: /content/drive/MyDrive/Commercial Horticulture English/Chapter 2 - Selection of seeds and Cultivation of Crops/Chapter 2C - Plantation_commercial crops of the region.mp4\n",
            "✅ Done: /content/drive/MyDrive/Commercial Horticulture English/Chapter 2 - Selection of seeds and Cultivation of Crops/Chapter 2C - Plantation_commercial crops of the region.mp4 → outputs in /content/drive/MyDrive/Commercial Horticulture English ASR/Chapter 2 - Selection of seeds and Cultivation of Crops\n",
            "\n",
            "🔄 Processing: /content/drive/MyDrive/Commercial Horticulture English/Chapter 2 - Selection of seeds and Cultivation of Crops/Chapter 2A - Major fruit crops of the region.mp4\n",
            "✅ Done: /content/drive/MyDrive/Commercial Horticulture English/Chapter 2 - Selection of seeds and Cultivation of Crops/Chapter 2A - Major fruit crops of the region.mp4 → outputs in /content/drive/MyDrive/Commercial Horticulture English ASR/Chapter 2 - Selection of seeds and Cultivation of Crops\n",
            "\n",
            "🔄 Processing: /content/drive/MyDrive/Commercial Horticulture English/Chapter 2 - Selection of seeds and Cultivation of Crops/Chapter 2G - Bio-technology as a new tool for horticulture development – BT varieties Soil, formation, structure, fertility & productivity–suitability of different horticulture crops_1.mp4\n",
            "✅ Done: /content/drive/MyDrive/Commercial Horticulture English/Chapter 2 - Selection of seeds and Cultivation of Crops/Chapter 2G - Bio-technology as a new tool for horticulture development – BT varieties Soil, formation, structure, fertility & productivity–suitability of different horticulture crops_1.mp4 → outputs in /content/drive/MyDrive/Commercial Horticulture English ASR/Chapter 2 - Selection of seeds and Cultivation of Crops\n",
            "\n",
            "🔄 Processing: /content/drive/MyDrive/Commercial Horticulture English/Chapter 1 - Introduction to Horticulture/Chapter 1C - Major Agro-climatic zones, spread & selection of horticulture crops.mp4\n",
            "✅ Done: /content/drive/MyDrive/Commercial Horticulture English/Chapter 1 - Introduction to Horticulture/Chapter 1C - Major Agro-climatic zones, spread & selection of horticulture crops.mp4 → outputs in /content/drive/MyDrive/Commercial Horticulture English ASR/Chapter 1 - Introduction to Horticulture\n",
            "\n",
            "🔄 Processing: /content/drive/MyDrive/Commercial Horticulture English/Chapter 1 - Introduction to Horticulture/Chapter 1A -  Present horticultural scenario in the country- Scope, opportunities, roles and responsibilities.mp4\n",
            "✅ Done: /content/drive/MyDrive/Commercial Horticulture English/Chapter 1 - Introduction to Horticulture/Chapter 1A -  Present horticultural scenario in the country- Scope, opportunities, roles and responsibilities.mp4 → outputs in /content/drive/MyDrive/Commercial Horticulture English ASR/Chapter 1 - Introduction to Horticulture\n",
            "\n",
            "🔄 Processing: /content/drive/MyDrive/Commercial Horticulture English/Chapter 1 - Introduction to Horticulture/Chapter 1B - Scope & cultivation of medicinal & Aromatic Plants.mp4\n",
            "✅ Done: /content/drive/MyDrive/Commercial Horticulture English/Chapter 1 - Introduction to Horticulture/Chapter 1B - Scope & cultivation of medicinal & Aromatic Plants.mp4 → outputs in /content/drive/MyDrive/Commercial Horticulture English ASR/Chapter 1 - Introduction to Horticulture\n",
            "\n",
            "🔄 Processing: /content/drive/MyDrive/Commercial Horticulture English/Chapter 1 - Introduction to Horticulture/Chapter 1E - Major Ago Climatic Zones, Spread & Selection of Horticulture Crops.mp4\n",
            "✅ Done: /content/drive/MyDrive/Commercial Horticulture English/Chapter 1 - Introduction to Horticulture/Chapter 1E - Major Ago Climatic Zones, Spread & Selection of Horticulture Crops.mp4 → outputs in /content/drive/MyDrive/Commercial Horticulture English ASR/Chapter 1 - Introduction to Horticulture\n",
            "\n",
            "🔄 Processing: /content/drive/MyDrive/Commercial Horticulture English/Chapter 1 - Introduction to Horticulture/Chapter 1D - Commercial Nursery Management, Description, Scope Irrigation, Greenhouses.mp4\n",
            "✅ Done: /content/drive/MyDrive/Commercial Horticulture English/Chapter 1 - Introduction to Horticulture/Chapter 1D - Commercial Nursery Management, Description, Scope Irrigation, Greenhouses.mp4 → outputs in /content/drive/MyDrive/Commercial Horticulture English ASR/Chapter 1 - Introduction to Horticulture\n",
            "\n",
            "🔄 Processing: /content/drive/MyDrive/Commercial Horticulture English/Chapter 1 - Introduction to Horticulture/Chapter 1 -  Present Horticultural scenario in the Country- Scope, Opportunities, Roles and Responsibilities.mp4\n",
            "✅ Done: /content/drive/MyDrive/Commercial Horticulture English/Chapter 1 - Introduction to Horticulture/Chapter 1 -  Present Horticultural scenario in the Country- Scope, Opportunities, Roles and Responsibilities.mp4 → outputs in /content/drive/MyDrive/Commercial Horticulture English ASR/Chapter 1 - Introduction to Horticulture\n",
            "\n",
            "🔄 Processing: /content/drive/MyDrive/Commercial Horticulture English/Chapter 3 - Organic Farming and Composting/Chapter 3 - Organic Farming.mp4\n",
            "✅ Done: /content/drive/MyDrive/Commercial Horticulture English/Chapter 3 - Organic Farming and Composting/Chapter 3 - Organic Farming.mp4 → outputs in /content/drive/MyDrive/Commercial Horticulture English ASR/Chapter 3 - Organic Farming and Composting\n",
            "\n",
            "🔄 Processing: /content/drive/MyDrive/Commercial Horticulture English/Chapter 3 - Organic Farming and Composting/Chapter 3B - Vermicomposting.mp4\n",
            "✅ Done: /content/drive/MyDrive/Commercial Horticulture English/Chapter 3 - Organic Farming and Composting/Chapter 3B - Vermicomposting.mp4 → outputs in /content/drive/MyDrive/Commercial Horticulture English ASR/Chapter 3 - Organic Farming and Composting\n",
            "\n",
            "🔄 Processing: /content/drive/MyDrive/Commercial Horticulture English/Chapter 3 - Organic Farming and Composting/Chapter 3A - Organic farming.mp4\n",
            "✅ Done: /content/drive/MyDrive/Commercial Horticulture English/Chapter 3 - Organic Farming and Composting/Chapter 3A - Organic farming.mp4 → outputs in /content/drive/MyDrive/Commercial Horticulture English ASR/Chapter 3 - Organic Farming and Composting\n",
            "\n",
            "🔄 Processing: /content/drive/MyDrive/Commercial Horticulture English/Chapter 3 - Organic Farming and Composting/Chapter 3C - Use of fertilizer and manures.mp4\n",
            "✅ Done: /content/drive/MyDrive/Commercial Horticulture English/Chapter 3 - Organic Farming and Composting/Chapter 3C - Use of fertilizer and manures.mp4 → outputs in /content/drive/MyDrive/Commercial Horticulture English ASR/Chapter 3 - Organic Farming and Composting\n",
            "\n",
            "🔄 Processing: /content/drive/MyDrive/Commercial Horticulture English/Chapter 6 - Possibilities of Self Employment in Horticulture/Chapter 6A - Bong Mam's Journey.mp4\n",
            "✅ Done: /content/drive/MyDrive/Commercial Horticulture English/Chapter 6 - Possibilities of Self Employment in Horticulture/Chapter 6A - Bong Mam's Journey.mp4 → outputs in /content/drive/MyDrive/Commercial Horticulture English ASR/Chapter 6 - Possibilities of Self Employment in Horticulture\n",
            "\n",
            "🔄 Processing: /content/drive/MyDrive/Commercial Horticulture English/Chapter 5 - Fruit Processing and Horticulture Commodities/Chapter 5 - Processing of Fruits, Vegetables & Other Horticulture Commodities, Grading, Value Addition, Preservation Methodologies.mp4\n",
            "✅ Done: /content/drive/MyDrive/Commercial Horticulture English/Chapter 5 - Fruit Processing and Horticulture Commodities/Chapter 5 - Processing of Fruits, Vegetables & Other Horticulture Commodities, Grading, Value Addition, Preservation Methodologies.mp4 → outputs in /content/drive/MyDrive/Commercial Horticulture English ASR/Chapter 5 - Fruit Processing and Horticulture Commodities\n",
            "\n",
            "🔄 Processing: /content/drive/MyDrive/Commercial Horticulture English/Chapter 5 - Fruit Processing and Horticulture Commodities/Chapter 5B - Renewable Energy, an appropriate alternative.mp4\n",
            "✅ Done: /content/drive/MyDrive/Commercial Horticulture English/Chapter 5 - Fruit Processing and Horticulture Commodities/Chapter 5B - Renewable Energy, an appropriate alternative.mp4 → outputs in /content/drive/MyDrive/Commercial Horticulture English ASR/Chapter 5 - Fruit Processing and Horticulture Commodities\n",
            "\n",
            "🔄 Processing: /content/drive/MyDrive/Commercial Horticulture English/Chapter 5 - Fruit Processing and Horticulture Commodities/Chapter 5A - Processing of fruits, vegetables & other horticulture commodities, grading, value addition, preservation methodologies.mp4\n",
            "✅ Done: /content/drive/MyDrive/Commercial Horticulture English/Chapter 5 - Fruit Processing and Horticulture Commodities/Chapter 5A - Processing of fruits, vegetables & other horticulture commodities, grading, value addition, preservation methodologies.mp4 → outputs in /content/drive/MyDrive/Commercial Horticulture English ASR/Chapter 5 - Fruit Processing and Horticulture Commodities\n"
          ]
        }
      ],
      "source": [
        "import os\n",
        "from pathlib import Path\n",
        "import whisper\n",
        "import torch\n",
        "from google.colab import drive\n",
        "\n",
        "# Format timestamps for SRT subtitles\n",
        "def format_timestamp(seconds: float) -> str:\n",
        "    millis = int((seconds % 1) * 1000)\n",
        "    seconds = int(seconds)\n",
        "    mins, sec = divmod(seconds, 60)\n",
        "    hrs, mins = divmod(mins, 60)\n",
        "    return f\"{hrs:02d}:{mins:02d}:{sec:02d},{millis:03d}\"\n",
        "\n",
        "# Check for GPU\n",
        "device = \"cuda\" if torch.cuda.is_available() else \"cpu\"\n",
        "print(\"🔥 Using device:\", device)\n",
        "\n",
        "# Mount Google Drive\n",
        "drive.mount('/content/drive')\n",
        "\n",
        "# Set your input and output directories here\n",
        "input_folder = \"/content/drive/MyDrive/Your Input Folder\"     # TODO: Change this\n",
        "output_folder = \"/content/drive/MyDrive/Your Output Folder\"   # TODO: Change this\n",
        "\n",
        "# Load Whisper model\n",
        "model = whisper.load_model(\"medium\").to(device)\n",
        "\n",
        "# Process all .mp4 files in the input folder (including subfolders)\n",
        "for root, _, files in os.walk(input_folder):\n",
        "    for file in files:\n",
        "        if file.endswith(\".mp4\"):\n",
        "            input_path = os.path.join(root, file)\n",
        "            relative_path = os.path.relpath(root, input_folder)\n",
        "            output_dir = os.path.join(output_folder, relative_path)\n",
        "            os.makedirs(output_dir, exist_ok=True)\n",
        "\n",
        "            print(f\"\\n🎙️ Transcribing: {file}\")\n",
        "\n",
        "            try:\n",
        "                result = model.transcribe(\n",
        "                    input_path,\n",
        "                    language=\"en\",\n",
        "                    task=\"transcribe\",\n",
        "                    fp16=torch.cuda.is_available()\n",
        "                )\n",
        "\n",
        "                # Save plain text transcript\n",
        "                text_path = os.path.join(output_dir, f\"{Path(file).stem}.txt\")\n",
        "                with open(text_path, \"w\", encoding=\"utf-8\") as f:\n",
        "                    f.write(result[\"text\"])\n",
        "\n",
        "                # Save subtitles in SRT format\n",
        "                srt_path = os.path.join(output_dir, f\"{Path(file).stem}.srt\")\n",
        "                with open(srt_path, \"w\", encoding=\"utf-8\") as f:\n",
        "                    for i, segment in enumerate(result[\"segments\"], start=1):\n",
        "                        f.write(\n",
        "                            f\"{i}\\n\"\n",
        "                            f\"{format_timestamp(segment['start'])} --> {format_timestamp(segment['end'])}\\n\"\n",
        "                            f\"{segment['text'].strip()}\\n\\n\"\n",
        "                        )\n",
        "\n",
        "                print(f\"✅ Finished: {file}\")\n",
        "\n",
        "            except Exception as e:\n",
        "                print(f\"❌ Error with {file}: {e}\")\n"
      ]
    },
    {
      "cell_type": "code",
      "source": [
        "import os\n",
        "\n",
        "\n",
        "\n",
        "# Set your root folder (change \"MyDrive\" or path if needed)\n",
        "root_folder = \"/content/drive/MyDrive/Commercial Horticulture English\"\n",
        "\n",
        "# Walk through all subfolders and files\n",
        "for root, dirs, files in os.walk(root_folder):\n",
        "    # Print folder name\n",
        "    print(f\"📂 {root}\")\n",
        "\n",
        "    # Print subfolders\n",
        "    for d in dirs:\n",
        "        print(f\"   - Folder: {d}\")\n",
        "\n",
        "    # Print files\n",
        "    for f in files:\n",
        "        print(f\"   - File: {f}\")\n"
      ],
      "metadata": {
        "colab": {
          "base_uri": "https://localhost:8080/"
        },
        "id": "2upuKBiCnaxM",
        "outputId": "452a3cf8-ac39-4e47-9711-61737da5ab70"
      },
      "execution_count": null,
      "outputs": [
        {
          "output_type": "stream",
          "name": "stdout",
          "text": [
            "📂 /content/drive/MyDrive/Commercial Horticulture English\n",
            "   - Folder: Chapter 4 - Diseases and Control\n",
            "   - Folder: Chapter 2 - Selection of seeds and Cultivation of Crops\n",
            "   - Folder: Chapter 1 - Introduction to Horticulture\n",
            "   - Folder: Chapter 3 - Organic Farming and Composting\n",
            "   - Folder: Chapter 6 - Possibilities of Self Employment in Horticulture\n",
            "   - Folder: Chapter 5 - Fruit Processing and Horticulture Commodities\n",
            "📂 /content/drive/MyDrive/Commercial Horticulture English/Chapter 4 - Diseases and Control\n",
            "   - File: Chapter 4 - Responsible use of Pesticides and Natural Alternatives.mp4\n",
            "   - File: Chapter 4B - Organic methods like companion planting and natural predators.mp4\n",
            "   - File: Chapter 4A - Responsible use of pesticides and natural alternatives.mp4\n",
            "📂 /content/drive/MyDrive/Commercial Horticulture English/Chapter 2 - Selection of seeds and Cultivation of Crops\n",
            "   - File: Chapter 2 - Major Fruit Crops of the Region.mp4\n",
            "   - File: Chapter 2F - Dry land horticulture & its management practices.mp4\n",
            "   - File: Chapter 2B - Major flower crops of the region, floriculture and landscape gardening maintenance of lawns.mp4\n",
            "   - File: Chapter 2E - Tissue culture in major horticulture crops.mp4\n",
            "   - File: Chapter 2D - Plant Propagation Techniques Grafting, Budding, Layering, Planting Techniques, and Essential Care Needs.mp4\n",
            "   - File: Chapter 2C - Plantation_commercial crops of the region.mp4\n",
            "   - File: Chapter 2A - Major fruit crops of the region.mp4\n",
            "   - File: Chapter 2G - Bio-technology as a new tool for horticulture development – BT varieties Soil, formation, structure, fertility & productivity–suitability of different horticulture crops_1.mp4\n",
            "📂 /content/drive/MyDrive/Commercial Horticulture English/Chapter 1 - Introduction to Horticulture\n",
            "   - File: Chapter 1C - Major Agro-climatic zones, spread & selection of horticulture crops.mp4\n",
            "   - File: Chapter 1A -  Present horticultural scenario in the country- Scope, opportunities, roles and responsibilities.mp4\n",
            "   - File: Chapter 1B - Scope & cultivation of medicinal & Aromatic Plants.mp4\n",
            "   - File: Chapter 1E - Major Ago Climatic Zones, Spread & Selection of Horticulture Crops.mp4\n",
            "   - File: Chapter 1D - Commercial Nursery Management, Description, Scope Irrigation, Greenhouses.mp4\n",
            "   - File: Chapter 1 -  Present Horticultural scenario in the Country- Scope, Opportunities, Roles and Responsibilities.mp4\n",
            "📂 /content/drive/MyDrive/Commercial Horticulture English/Chapter 3 - Organic Farming and Composting\n",
            "   - File: Chapter 3 - Organic Farming.mp4\n",
            "   - File: Chapter 3B - Vermicomposting.mp4\n",
            "   - File: Chapter 3A - Organic farming.mp4\n",
            "   - File: Chapter 3C - Use of fertilizer and manures.mp4\n",
            "📂 /content/drive/MyDrive/Commercial Horticulture English/Chapter 6 - Possibilities of Self Employment in Horticulture\n",
            "   - File: Chapter 6A - Bong Mam's Journey.mp4\n",
            "📂 /content/drive/MyDrive/Commercial Horticulture English/Chapter 5 - Fruit Processing and Horticulture Commodities\n",
            "   - File: Chapter 5 - Processing of Fruits, Vegetables & Other Horticulture Commodities, Grading, Value Addition, Preservation Methodologies.mp4\n",
            "   - File: Chapter 5B - Renewable Energy, an appropriate alternative.mp4\n",
            "   - File: Chapter 5A - Processing of fruits, vegetables & other horticulture commodities, grading, value addition, preservation methodologies.mp4\n"
          ]
        }
      ]
    },
    {
      "cell_type": "code",
      "source": [
        "!pip install moviepy"
      ],
      "metadata": {
        "colab": {
          "base_uri": "https://localhost:8080/"
        },
        "id": "jTdYzAflddcy",
        "outputId": "a7db815c-2d3d-4b65-a3d1-b48843c5c5c1"
      },
      "execution_count": null,
      "outputs": [
        {
          "output_type": "stream",
          "name": "stdout",
          "text": [
            "Requirement already satisfied: moviepy in /usr/local/lib/python3.12/dist-packages (1.0.3)\n",
            "Requirement already satisfied: decorator<5.0,>=4.0.2 in /usr/local/lib/python3.12/dist-packages (from moviepy) (4.4.2)\n",
            "Requirement already satisfied: tqdm<5.0,>=4.11.2 in /usr/local/lib/python3.12/dist-packages (from moviepy) (4.67.1)\n",
            "Requirement already satisfied: requests<3.0,>=2.8.1 in /usr/local/lib/python3.12/dist-packages (from moviepy) (2.32.4)\n",
            "Requirement already satisfied: proglog<=1.0.0 in /usr/local/lib/python3.12/dist-packages (from moviepy) (0.1.12)\n",
            "Requirement already satisfied: numpy>=1.17.3 in /usr/local/lib/python3.12/dist-packages (from moviepy) (2.0.2)\n",
            "Requirement already satisfied: imageio<3.0,>=2.5 in /usr/local/lib/python3.12/dist-packages (from moviepy) (2.37.0)\n",
            "Requirement already satisfied: imageio-ffmpeg>=0.2.0 in /usr/local/lib/python3.12/dist-packages (from moviepy) (0.6.0)\n",
            "Requirement already satisfied: pillow>=8.3.2 in /usr/local/lib/python3.12/dist-packages (from imageio<3.0,>=2.5->moviepy) (11.3.0)\n",
            "Requirement already satisfied: charset_normalizer<4,>=2 in /usr/local/lib/python3.12/dist-packages (from requests<3.0,>=2.8.1->moviepy) (3.4.3)\n",
            "Requirement already satisfied: idna<4,>=2.5 in /usr/local/lib/python3.12/dist-packages (from requests<3.0,>=2.8.1->moviepy) (3.10)\n",
            "Requirement already satisfied: urllib3<3,>=1.21.1 in /usr/local/lib/python3.12/dist-packages (from requests<3.0,>=2.8.1->moviepy) (2.5.0)\n",
            "Requirement already satisfied: certifi>=2017.4.17 in /usr/local/lib/python3.12/dist-packages (from requests<3.0,>=2.8.1->moviepy) (2025.8.3)\n"
          ]
        }
      ]
    },
    {
      "cell_type": "code",
      "source": [
        "import os\n",
        "from moviepy.editor import VideoFileClip\n",
        "\n",
        "root_folder = \"/content/drive/MyDrive/Commercial Horticulture English\"\n",
        "\n",
        "# Walk through all subfolders and files\n",
        "for root, dirs, files in os.walk(root_folder):\n",
        "    # Print folder name\n",
        "    print(f\"📂 {root}\")\n",
        "\n",
        "    # Print subfolders\n",
        "    for d in dirs:\n",
        "        print(f\"   - Folder: {d}\")\n",
        "\n",
        "    # Print files and get duration for .mp4 files\n",
        "    for f in files:\n",
        "        if f.lower().endswith(\".mp4\"):\n",
        "            video_path = os.path.join(root, f)\n",
        "            try:\n",
        "                # Get video duration\n",
        "                with VideoFileClip(video_path) as video:\n",
        "                    duration = video.duration  # Duration in seconds\n",
        "                    print(f\"   - File: {f} | Duration: {duration:.2f} seconds\")\n",
        "            except Exception as e:\n",
        "                print(f\"   - File: {f} | Error: {str(e)}\")\n"
      ],
      "metadata": {
        "colab": {
          "base_uri": "https://localhost:8080/"
        },
        "id": "vrvL9kNbdZnE",
        "outputId": "a222efd6-e74a-437e-a71e-05e5b8eb61ed"
      },
      "execution_count": null,
      "outputs": [
        {
          "output_type": "stream",
          "name": "stderr",
          "text": [
            "/usr/local/lib/python3.12/dist-packages/moviepy/config_defaults.py:47: SyntaxWarning: invalid escape sequence '\\P'\n",
            "  IMAGEMAGICK_BINARY = r\"C:\\Program Files\\ImageMagick-6.8.8-Q16\\magick.exe\"\n",
            "/usr/local/lib/python3.12/dist-packages/moviepy/video/io/ffmpeg_reader.py:294: SyntaxWarning: invalid escape sequence '\\d'\n",
            "  lines_video = [l for l in lines if ' Video: ' in l and re.search('\\d+x\\d+', l)]\n",
            "/usr/local/lib/python3.12/dist-packages/moviepy/video/io/ffmpeg_reader.py:367: SyntaxWarning: invalid escape sequence '\\d'\n",
            "  rotation_lines = [l for l in lines if 'rotate          :' in l and re.search('\\d+$', l)]\n",
            "/usr/local/lib/python3.12/dist-packages/moviepy/video/io/ffmpeg_reader.py:370: SyntaxWarning: invalid escape sequence '\\d'\n",
            "  match = re.search('\\d+$', rotation_line)\n",
            "WARNING:py.warnings:/usr/local/lib/python3.12/dist-packages/moviepy/video/io/sliders.py:61: SyntaxWarning: \"is\" with 'str' literal. Did you mean \"==\"?\n",
            "  if event.key is 'enter':\n",
            "\n"
          ]
        },
        {
          "output_type": "stream",
          "name": "stdout",
          "text": [
            "📂 /content/drive/MyDrive/Commercial Horticulture English\n",
            "   - Folder: Chapter 4 - Diseases and Control\n",
            "   - Folder: Chapter 2 - Selection of seeds and Cultivation of Crops\n",
            "   - Folder: Chapter 1 - Introduction to Horticulture\n",
            "   - Folder: Chapter 3 - Organic Farming and Composting\n",
            "   - Folder: Chapter 6 - Possibilities of Self Employment in Horticulture\n",
            "   - Folder: Chapter 5 - Fruit Processing and Horticulture Commodities\n",
            "📂 /content/drive/MyDrive/Commercial Horticulture English/Chapter 4 - Diseases and Control\n",
            "   - File: Chapter 4 - Responsible use of Pesticides and Natural Alternatives.mp4 | Duration: 35.26 seconds\n",
            "   - File: Chapter 4B - Organic methods like companion planting and natural predators.mp4 | Duration: 500.12 seconds\n",
            "   - File: Chapter 4A - Responsible use of pesticides and natural alternatives.mp4 | Duration: 433.02 seconds\n",
            "📂 /content/drive/MyDrive/Commercial Horticulture English/Chapter 2 - Selection of seeds and Cultivation of Crops\n",
            "   - File: Chapter 2 - Major Fruit Crops of the Region.mp4 | Duration: 33.26 seconds\n",
            "   - File: Chapter 2F - Dry land horticulture & its management practices.mp4 | Duration: 186.28 seconds\n",
            "   - File: Chapter 2B - Major flower crops of the region, floriculture and landscape gardening maintenance of lawns.mp4 | Duration: 1508.80 seconds\n",
            "   - File: Chapter 2E - Tissue culture in major horticulture crops.mp4 | Duration: 319.16 seconds\n",
            "   - File: Chapter 2D - Plant Propagation Techniques Grafting, Budding, Layering, Planting Techniques, and Essential Care Needs.mp4 | Duration: 1538.72 seconds\n",
            "   - File: Chapter 2C - Plantation_commercial crops of the region.mp4 | Duration: 1244.28 seconds\n",
            "   - File: Chapter 2A - Major fruit crops of the region.mp4 | Duration: 1243.52 seconds\n",
            "   - File: Chapter 2G - Bio-technology as a new tool for horticulture development – BT varieties Soil, formation, structure, fertility & productivity–suitability of different horticulture crops_1.mp4 | Duration: 403.52 seconds\n",
            "📂 /content/drive/MyDrive/Commercial Horticulture English/Chapter 1 - Introduction to Horticulture\n",
            "   - File: Chapter 1C - Major Agro-climatic zones, spread & selection of horticulture crops.mp4 | Duration: 453.12 seconds\n",
            "   - File: Chapter 1A -  Present horticultural scenario in the country- Scope, opportunities, roles and responsibilities.mp4 | Duration: 925.82 seconds\n",
            "   - File: Chapter 1B - Scope & cultivation of medicinal & Aromatic Plants.mp4 | Duration: 287.00 seconds\n",
            "   - File: Chapter 1E - Major Ago Climatic Zones, Spread & Selection of Horticulture Crops.mp4 | Duration: 263.00 seconds\n",
            "   - File: Chapter 1D - Commercial Nursery Management, Description, Scope Irrigation, Greenhouses.mp4 | Duration: 931.00 seconds\n",
            "   - File: Chapter 1 -  Present Horticultural scenario in the Country- Scope, Opportunities, Roles and Responsibilities.mp4 | Duration: 45.91 seconds\n",
            "📂 /content/drive/MyDrive/Commercial Horticulture English/Chapter 3 - Organic Farming and Composting\n",
            "   - File: Chapter 3 - Organic Farming.mp4 | Duration: 54.44 seconds\n",
            "   - File: Chapter 3B - Vermicomposting.mp4 | Duration: 817.92 seconds\n",
            "   - File: Chapter 3A - Organic farming.mp4 | Duration: 479.20 seconds\n",
            "   - File: Chapter 3C - Use of fertilizer and manures.mp4 | Duration: 989.28 seconds\n",
            "📂 /content/drive/MyDrive/Commercial Horticulture English/Chapter 6 - Possibilities of Self Employment in Horticulture\n",
            "   - File: Chapter 6A - Bong Mam's Journey.mp4 | Duration: 1508.72 seconds\n",
            "📂 /content/drive/MyDrive/Commercial Horticulture English/Chapter 5 - Fruit Processing and Horticulture Commodities\n",
            "   - File: Chapter 5 - Processing of Fruits, Vegetables & Other Horticulture Commodities, Grading, Value Addition, Preservation Methodologies.mp4 | Duration: 42.62 seconds\n",
            "   - File: Chapter 5B - Renewable Energy, an appropriate alternative.mp4 | Duration: 534.00 seconds\n",
            "   - File: Chapter 5A - Processing of fruits, vegetables & other horticulture commodities, grading, value addition, preservation methodologies.mp4 | Duration: 297.28 seconds\n"
          ]
        }
      ]
    }
  ]
}